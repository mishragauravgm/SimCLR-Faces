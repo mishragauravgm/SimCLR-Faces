{
 "cells": [
  {
   "cell_type": "code",
   "execution_count": 1,
   "metadata": {},
   "outputs": [],
   "source": [
    "import pandas as pd\n",
    "import numpy as np\n",
    "from itertools import chain\n",
    "from ast import literal_eval\n",
    "import seaborn as sns\n",
    "from sklearn.manifold import TSNE\n",
    "import matplotlib.pyplot as plt"
   ]
  },
  {
   "cell_type": "markdown",
   "metadata": {},
   "source": [
    "## Trying TSNE to look for visualisation"
   ]
  },
  {
   "cell_type": "code",
   "execution_count": 24,
   "metadata": {},
   "outputs": [],
   "source": [
    "embeddings = pd.read_csv('embeddings_test.csv', usecols=['embeddings','family_id'], index_col=False,converters={'embeddings': literal_eval})"
   ]
  },
  {
   "cell_type": "code",
   "execution_count": 25,
   "metadata": {},
   "outputs": [
    {
     "data": {
      "text/html": [
       "<div>\n",
       "<style scoped>\n",
       "    .dataframe tbody tr th:only-of-type {\n",
       "        vertical-align: middle;\n",
       "    }\n",
       "\n",
       "    .dataframe tbody tr th {\n",
       "        vertical-align: top;\n",
       "    }\n",
       "\n",
       "    .dataframe thead th {\n",
       "        text-align: right;\n",
       "    }\n",
       "</style>\n",
       "<table border=\"1\" class=\"dataframe\">\n",
       "  <thead>\n",
       "    <tr style=\"text-align: right;\">\n",
       "      <th></th>\n",
       "      <th>embeddings</th>\n",
       "      <th>family_id</th>\n",
       "    </tr>\n",
       "  </thead>\n",
       "  <tbody>\n",
       "    <tr>\n",
       "      <th>0</th>\n",
       "      <td>[0.7124780416488647, 0.78122878074646, 1.12151...</td>\n",
       "      <td>425</td>\n",
       "    </tr>\n",
       "    <tr>\n",
       "      <th>1</th>\n",
       "      <td>[1.0682826042175293, 0.6823692321777344, 1.113...</td>\n",
       "      <td>601</td>\n",
       "    </tr>\n",
       "    <tr>\n",
       "      <th>2</th>\n",
       "      <td>[0.6104856729507446, 1.0229648351669312, 0.710...</td>\n",
       "      <td>598</td>\n",
       "    </tr>\n",
       "    <tr>\n",
       "      <th>3</th>\n",
       "      <td>[0.7736867070198059, 0.562134325504303, 0.5773...</td>\n",
       "      <td>415</td>\n",
       "    </tr>\n",
       "    <tr>\n",
       "      <th>4</th>\n",
       "      <td>[0.8705348372459412, 0.7440841794013977, 0.621...</td>\n",
       "      <td>339</td>\n",
       "    </tr>\n",
       "    <tr>\n",
       "      <th>...</th>\n",
       "      <td>...</td>\n",
       "      <td>...</td>\n",
       "    </tr>\n",
       "    <tr>\n",
       "      <th>6262</th>\n",
       "      <td>[1.5576567649841309, 3.1235618591308594, 1.866...</td>\n",
       "      <td>708</td>\n",
       "    </tr>\n",
       "    <tr>\n",
       "      <th>6263</th>\n",
       "      <td>[0.7692774534225464, 0.5895674228668213, 0.930...</td>\n",
       "      <td>929</td>\n",
       "    </tr>\n",
       "    <tr>\n",
       "      <th>6264</th>\n",
       "      <td>[0.9186235070228577, 0.6903350353240967, 0.311...</td>\n",
       "      <td>101</td>\n",
       "    </tr>\n",
       "    <tr>\n",
       "      <th>6265</th>\n",
       "      <td>[0.9006897211074829, 2.3924455642700195, 1.512...</td>\n",
       "      <td>165</td>\n",
       "    </tr>\n",
       "    <tr>\n",
       "      <th>6266</th>\n",
       "      <td>[1.174356460571289, 0.8748297095298767, 0.3444...</td>\n",
       "      <td>411</td>\n",
       "    </tr>\n",
       "  </tbody>\n",
       "</table>\n",
       "<p>6267 rows × 2 columns</p>\n",
       "</div>"
      ],
      "text/plain": [
       "                                             embeddings  family_id\n",
       "0     [0.7124780416488647, 0.78122878074646, 1.12151...        425\n",
       "1     [1.0682826042175293, 0.6823692321777344, 1.113...        601\n",
       "2     [0.6104856729507446, 1.0229648351669312, 0.710...        598\n",
       "3     [0.7736867070198059, 0.562134325504303, 0.5773...        415\n",
       "4     [0.8705348372459412, 0.7440841794013977, 0.621...        339\n",
       "...                                                 ...        ...\n",
       "6262  [1.5576567649841309, 3.1235618591308594, 1.866...        708\n",
       "6263  [0.7692774534225464, 0.5895674228668213, 0.930...        929\n",
       "6264  [0.9186235070228577, 0.6903350353240967, 0.311...        101\n",
       "6265  [0.9006897211074829, 2.3924455642700195, 1.512...        165\n",
       "6266  [1.174356460571289, 0.8748297095298767, 0.3444...        411\n",
       "\n",
       "[6267 rows x 2 columns]"
      ]
     },
     "execution_count": 25,
     "metadata": {},
     "output_type": "execute_result"
    }
   ],
   "source": [
    "embeddings"
   ]
  },
  {
   "cell_type": "code",
   "execution_count": 26,
   "metadata": {},
   "outputs": [],
   "source": [
    "embeddings_list = pd.DataFrame(list(embeddings.iloc[:,0]))"
   ]
  },
  {
   "cell_type": "code",
   "execution_count": 27,
   "metadata": {},
   "outputs": [],
   "source": [
    "embeddings_list['FID'] = embeddings['family_id']\n",
    "embeddings_list.sort_values(by='FID', inplace=True)\n",
    "embeddings_list.reset_index(drop=True, inplace=True)"
   ]
  },
  {
   "cell_type": "code",
   "execution_count": 28,
   "metadata": {},
   "outputs": [],
   "source": [
    "embeddings_list.to_csv('/home/mishra.g/thesis/code/SimCLR-Faces/embeddings_test.csv', index=False)"
   ]
  },
  {
   "cell_type": "code",
   "execution_count": 107,
   "metadata": {},
   "outputs": [
    {
     "name": "stdout",
     "output_type": "stream",
     "text": [
      "/home/mishra.g/thesis/code/SimCLR-Faces\n"
     ]
    }
   ],
   "source": [
    "!pwd"
   ]
  },
  {
   "cell_type": "code",
   "execution_count": 45,
   "metadata": {},
   "outputs": [
    {
     "name": "stderr",
     "output_type": "stream",
     "text": [
      "/home/mishra.g/.local/lib/python3.7/site-packages/sklearn/manifold/_t_sne.py:783: FutureWarning: The default initialization in TSNE will change from 'random' to 'pca' in 1.2.\n",
      "  FutureWarning,\n",
      "/home/mishra.g/.local/lib/python3.7/site-packages/sklearn/manifold/_t_sne.py:793: FutureWarning: The default learning rate in TSNE will change from 200.0 to 'auto' in 1.2.\n",
      "  FutureWarning,\n"
     ]
    }
   ],
   "source": [
    "tsne = TSNE()\n",
    "tsne_components = tsne.fit_transform(embeddings_list)"
   ]
  },
  {
   "cell_type": "code",
   "execution_count": 47,
   "metadata": {},
   "outputs": [],
   "source": [
    "tsne_components = pd.DataFrame(tsne_components)"
   ]
  },
  {
   "cell_type": "code",
   "execution_count": 49,
   "metadata": {},
   "outputs": [],
   "source": [
    "tsne_components['family_ID'] = embeddings['family_id']"
   ]
  },
  {
   "cell_type": "code",
   "execution_count": 53,
   "metadata": {},
   "outputs": [],
   "source": [
    "tsne_components.sort_values(by='family_ID', inplace=True)"
   ]
  },
  {
   "cell_type": "code",
   "execution_count": 77,
   "metadata": {},
   "outputs": [],
   "source": [
    "tsne_components.reset_index(inplace=True, drop=True)"
   ]
  },
  {
   "cell_type": "code",
   "execution_count": 78,
   "metadata": {},
   "outputs": [
    {
     "data": {
      "text/html": [
       "<div>\n",
       "<style scoped>\n",
       "    .dataframe tbody tr th:only-of-type {\n",
       "        vertical-align: middle;\n",
       "    }\n",
       "\n",
       "    .dataframe tbody tr th {\n",
       "        vertical-align: top;\n",
       "    }\n",
       "\n",
       "    .dataframe thead th {\n",
       "        text-align: right;\n",
       "    }\n",
       "</style>\n",
       "<table border=\"1\" class=\"dataframe\">\n",
       "  <thead>\n",
       "    <tr style=\"text-align: right;\">\n",
       "      <th></th>\n",
       "      <th>0</th>\n",
       "      <th>1</th>\n",
       "      <th>family_ID</th>\n",
       "    </tr>\n",
       "  </thead>\n",
       "  <tbody>\n",
       "    <tr>\n",
       "      <th>0</th>\n",
       "      <td>-37.906223</td>\n",
       "      <td>20.326406</td>\n",
       "      <td>1</td>\n",
       "    </tr>\n",
       "    <tr>\n",
       "      <th>1</th>\n",
       "      <td>69.847542</td>\n",
       "      <td>-10.289249</td>\n",
       "      <td>1</td>\n",
       "    </tr>\n",
       "    <tr>\n",
       "      <th>2</th>\n",
       "      <td>-57.373970</td>\n",
       "      <td>31.492249</td>\n",
       "      <td>1</td>\n",
       "    </tr>\n",
       "    <tr>\n",
       "      <th>3</th>\n",
       "      <td>-56.971218</td>\n",
       "      <td>4.605709</td>\n",
       "      <td>1</td>\n",
       "    </tr>\n",
       "    <tr>\n",
       "      <th>4</th>\n",
       "      <td>19.899782</td>\n",
       "      <td>60.121506</td>\n",
       "      <td>1</td>\n",
       "    </tr>\n",
       "    <tr>\n",
       "      <th>...</th>\n",
       "      <td>...</td>\n",
       "      <td>...</td>\n",
       "      <td>...</td>\n",
       "    </tr>\n",
       "    <tr>\n",
       "      <th>15840</th>\n",
       "      <td>52.884983</td>\n",
       "      <td>13.831012</td>\n",
       "      <td>1018</td>\n",
       "    </tr>\n",
       "    <tr>\n",
       "      <th>15841</th>\n",
       "      <td>50.602329</td>\n",
       "      <td>19.469469</td>\n",
       "      <td>1018</td>\n",
       "    </tr>\n",
       "    <tr>\n",
       "      <th>15842</th>\n",
       "      <td>4.258468</td>\n",
       "      <td>-19.474216</td>\n",
       "      <td>1018</td>\n",
       "    </tr>\n",
       "    <tr>\n",
       "      <th>15843</th>\n",
       "      <td>13.320820</td>\n",
       "      <td>43.837078</td>\n",
       "      <td>1018</td>\n",
       "    </tr>\n",
       "    <tr>\n",
       "      <th>15844</th>\n",
       "      <td>62.221455</td>\n",
       "      <td>-1.180697</td>\n",
       "      <td>1018</td>\n",
       "    </tr>\n",
       "  </tbody>\n",
       "</table>\n",
       "<p>15845 rows × 3 columns</p>\n",
       "</div>"
      ],
      "text/plain": [
       "               0          1  family_ID\n",
       "0     -37.906223  20.326406          1\n",
       "1      69.847542 -10.289249          1\n",
       "2     -57.373970  31.492249          1\n",
       "3     -56.971218   4.605709          1\n",
       "4      19.899782  60.121506          1\n",
       "...          ...        ...        ...\n",
       "15840  52.884983  13.831012       1018\n",
       "15841  50.602329  19.469469       1018\n",
       "15842   4.258468 -19.474216       1018\n",
       "15843  13.320820  43.837078       1018\n",
       "15844  62.221455  -1.180697       1018\n",
       "\n",
       "[15845 rows x 3 columns]"
      ]
     },
     "execution_count": 78,
     "metadata": {},
     "output_type": "execute_result"
    }
   ],
   "source": [
    "tsne_components"
   ]
  },
  {
   "cell_type": "code",
   "execution_count": 99,
   "metadata": {},
   "outputs": [
    {
     "data": {
      "text/plain": [
       "<matplotlib.axes._subplots.AxesSubplot at 0x2ba563b7b850>"
      ]
     },
     "execution_count": 99,
     "metadata": {},
     "output_type": "execute_result"
    },
    {
     "data": {
      "image/png": "[encoded data removed]",
      "text/plain": [
       "<Figure size 1152x720 with 1 Axes>"
      ]
     },
     "metadata": {
      "needs_background": "light"
     },
     "output_type": "display_data"
    }
   ],
   "source": [
    "#df_subset['tsne-2d-one'] = tsne_components.iloc[:,0]\n",
    "#df_subset['tsne-2d-two'] = tsne_components.iloc[:,1]\n",
    "\n",
    "df_subset = tsne_components.iloc[0:20,:]\n",
    "\n",
    "plt.figure(figsize=(16,10))\n",
    "sns.scatterplot(\n",
    "    x=tsne_components.iloc[:,0], y=tsne_components.iloc[:,1],\n",
    "    hue=\"family_ID\",\n",
    "    palette=sns.color_palette(\"hls\", 2),\n",
    "    data=tsne_components[0:20],\n",
    "    legend=\"full\",\n",
    "    alpha=0.3\n",
    ")"
   ]
  },
  {
   "cell_type": "markdown",
   "metadata": {},
   "source": [
    "It appears that the embeddings learnt through TSNE are not grouping family members together. Next step is to look at family clusters"
   ]
  },
  {
   "cell_type": "markdown",
   "metadata": {},
   "source": [
    "## Trying to find cluster center and then using distance metrics to find which family center is closest to the test image"
   ]
  },
  {
   "cell_type": "code",
   "execution_count": 25,
   "metadata": {},
   "outputs": [],
   "source": [
    "a = deque()"
   ]
  },
  {
   "cell_type": "code",
   "execution_count": 26,
   "metadata": {},
   "outputs": [
    {
     "data": {
      "text/plain": [
       "deque([6, 5, 7])"
      ]
     },
     "execution_count": 26,
     "metadata": {},
     "output_type": "execute_result"
    }
   ],
   "source": [
    "a.append(5)\n",
    "a.appendleft(6)\n",
    "a.append(7)\n",
    "a"
   ]
  },
  {
   "cell_type": "code",
   "execution_count": 27,
   "metadata": {},
   "outputs": [
    {
     "data": {
      "text/plain": [
       "7"
      ]
     },
     "execution_count": 27,
     "metadata": {},
     "output_type": "execute_result"
    }
   ],
   "source": [
    "a.pop()"
   ]
  },
  {
   "cell_type": "code",
   "execution_count": 37,
   "metadata": {},
   "outputs": [],
   "source": [
    "graph = {\n",
    "  'A' : ['B','C'],\n",
    "  'B' : ['D', 'E'],\n",
    "  'C' : ['F'],\n",
    "  'D' : [],\n",
    "  'E' : ['F'],\n",
    "  'F' : []\n",
    "}"
   ]
  },
  {
   "cell_type": "code",
   "execution_count": 40,
   "metadata": {},
   "outputs": [
    {
     "name": "stdout",
     "output_type": "stream",
     "text": [
      "A C "
     ]
    }
   ],
   "source": [
    "from collections import deque\n",
    "def bfs(graph, node): #Node is where you want to start searching\n",
    "    visited = []\n",
    "    q = deque()\n",
    "    \n",
    "    visited.append(node)\n",
    "    q.append(node)\n",
    "    \n",
    "    while q:\n",
    "        cur = q.popleft()\n",
    "        print(cur, end=\" \")\n",
    "        \n",
    "        for neighbor in graph[cur]:\n",
    "            if neighbor not in visited:\n",
    "                visited.append(neighbor)\n",
    "                q.append(neighbor)\n",
    "        \n",
    "    \n",
    "bfs(graph, 'A')"
   ]
  },
  {
   "cell_type": "code",
   "execution_count": 32,
   "metadata": {},
   "outputs": [
    {
     "data": {
      "text/plain": [
       "deque([5, 6, 7])"
      ]
     },
     "execution_count": 32,
     "metadata": {},
     "output_type": "execute_result"
    }
   ],
   "source": [
    "q = deque()\n",
    "q.append(5)\n",
    "q.append(6)\n",
    "q.append(7)\n",
    "\n",
    "q\n"
   ]
  },
  {
   "cell_type": "code",
   "execution_count": 35,
   "metadata": {},
   "outputs": [
    {
     "data": {
      "text/plain": [
       "5"
      ]
     },
     "execution_count": 35,
     "metadata": {},
     "output_type": "execute_result"
    }
   ],
   "source": [
    "q.popleft()"
   ]
  },
  {
   "cell_type": "code",
   "execution_count": 41,
   "metadata": {},
   "outputs": [],
   "source": [
    "def dfs(graph, node):\n",
    "    \n",
    "    visited =[]\n",
    "    stack = deque()\n",
    "    \n",
    "    visited.append(node)\n",
    "    stack.append(node)\n",
    "    \n",
    "    while stack:\n",
    "        cur = stack.pop()\n",
    "        print(cur, end = ' ')\n",
    "        for neighbor in reversed(graph[cur]):\n",
    "            if neighbor not in visited:\n",
    "                visited.append(neighbor)\n",
    "                stack.append(neighbor)\n",
    "                \n",
    "                \n",
    "            "
   ]
  },
  {
   "cell_type": "code",
   "execution_count": 58,
   "metadata": {},
   "outputs": [
    {
     "name": "stdout",
     "output_type": "stream",
     "text": [
      "A B D E F C "
     ]
    }
   ],
   "source": [
    "dfs(graph, \"A\")"
   ]
  },
  {
   "cell_type": "code",
   "execution_count": 59,
   "metadata": {},
   "outputs": [],
   "source": [
    "visited = []\n",
    "def dfs_recursive(graph, node):\n",
    "    stack = deque()\n",
    "    if node in visited:\n",
    "        return\n",
    "    \n",
    "    visited.append(node)\n",
    "    print(node, end = \" \")\n",
    "    for neighbor in graph[node]:\n",
    "        if neighbor not in visited:\n",
    "            visited.append(node)\n",
    "            dfs_recursive(graph, neighbor)"
   ]
  },
  {
   "cell_type": "code",
   "execution_count": 60,
   "metadata": {},
   "outputs": [
    {
     "name": "stdout",
     "output_type": "stream",
     "text": [
      "A B D E F C "
     ]
    }
   ],
   "source": [
    "dfs_recursive(graph, \"A\")"
   ]
  },
  {
   "cell_type": "code",
   "execution_count": 61,
   "metadata": {},
   "outputs": [
    {
     "data": {
      "text/plain": [
       "{'A': ['B', 'C'], 'B': ['D', 'E'], 'C': ['F'], 'D': [], 'E': ['F'], 'F': []}"
      ]
     },
     "execution_count": 61,
     "metadata": {},
     "output_type": "execute_result"
    }
   ],
   "source": [
    "graph"
   ]
  },
  {
   "cell_type": "code",
   "execution_count": 3,
   "metadata": {},
   "outputs": [
    {
     "data": {
      "text/html": [
       "<div>\n",
       "<style scoped>\n",
       "    .dataframe tbody tr th:only-of-type {\n",
       "        vertical-align: middle;\n",
       "    }\n",
       "\n",
       "    .dataframe tbody tr th {\n",
       "        vertical-align: top;\n",
       "    }\n",
       "\n",
       "    .dataframe thead th {\n",
       "        text-align: right;\n",
       "    }\n",
       "</style>\n",
       "<table border=\"1\" class=\"dataframe\">\n",
       "  <thead>\n",
       "    <tr style=\"text-align: right;\">\n",
       "      <th></th>\n",
       "      <th>0</th>\n",
       "      <th>1</th>\n",
       "    </tr>\n",
       "  </thead>\n",
       "  <tbody>\n",
       "    <tr>\n",
       "      <th>0</th>\n",
       "      <td>/home/mishra.g/thesis/data/T-1/all_images/trai...</td>\n",
       "      <td>581</td>\n",
       "    </tr>\n",
       "    <tr>\n",
       "      <th>1</th>\n",
       "      <td>/home/mishra.g/thesis/data/T-1/all_images/trai...</td>\n",
       "      <td>832</td>\n",
       "    </tr>\n",
       "    <tr>\n",
       "      <th>2</th>\n",
       "      <td>/home/mishra.g/thesis/data/T-1/all_images/trai...</td>\n",
       "      <td>80</td>\n",
       "    </tr>\n",
       "    <tr>\n",
       "      <th>3</th>\n",
       "      <td>/home/mishra.g/thesis/data/T-1/all_images/trai...</td>\n",
       "      <td>921</td>\n",
       "    </tr>\n",
       "    <tr>\n",
       "      <th>4</th>\n",
       "      <td>/home/mishra.g/thesis/data/T-1/all_images/trai...</td>\n",
       "      <td>856</td>\n",
       "    </tr>\n",
       "    <tr>\n",
       "      <th>...</th>\n",
       "      <td>...</td>\n",
       "      <td>...</td>\n",
       "    </tr>\n",
       "    <tr>\n",
       "      <th>14618</th>\n",
       "      <td>/home/mishra.g/thesis/data/T-1/all_images/trai...</td>\n",
       "      <td>278</td>\n",
       "    </tr>\n",
       "    <tr>\n",
       "      <th>14619</th>\n",
       "      <td>/home/mishra.g/thesis/data/T-1/all_images/trai...</td>\n",
       "      <td>2</td>\n",
       "    </tr>\n",
       "    <tr>\n",
       "      <th>14620</th>\n",
       "      <td>/home/mishra.g/thesis/data/T-1/all_images/trai...</td>\n",
       "      <td>87</td>\n",
       "    </tr>\n",
       "    <tr>\n",
       "      <th>14621</th>\n",
       "      <td>/home/mishra.g/thesis/data/T-1/all_images/trai...</td>\n",
       "      <td>623</td>\n",
       "    </tr>\n",
       "    <tr>\n",
       "      <th>14622</th>\n",
       "      <td>/home/mishra.g/thesis/data/T-1/all_images/trai...</td>\n",
       "      <td>535</td>\n",
       "    </tr>\n",
       "  </tbody>\n",
       "</table>\n",
       "<p>14623 rows × 2 columns</p>\n",
       "</div>"
      ],
      "text/plain": [
       "                                                       0    1\n",
       "0      /home/mishra.g/thesis/data/T-1/all_images/trai...  581\n",
       "1      /home/mishra.g/thesis/data/T-1/all_images/trai...  832\n",
       "2      /home/mishra.g/thesis/data/T-1/all_images/trai...   80\n",
       "3      /home/mishra.g/thesis/data/T-1/all_images/trai...  921\n",
       "4      /home/mishra.g/thesis/data/T-1/all_images/trai...  856\n",
       "...                                                  ...  ...\n",
       "14618  /home/mishra.g/thesis/data/T-1/all_images/trai...  278\n",
       "14619  /home/mishra.g/thesis/data/T-1/all_images/trai...    2\n",
       "14620  /home/mishra.g/thesis/data/T-1/all_images/trai...   87\n",
       "14621  /home/mishra.g/thesis/data/T-1/all_images/trai...  623\n",
       "14622  /home/mishra.g/thesis/data/T-1/all_images/trai...  535\n",
       "\n",
       "[14623 rows x 2 columns]"
      ]
     },
     "execution_count": 3,
     "metadata": {},
     "output_type": "execute_result"
    }
   ],
   "source": [
    "dir = '/home/mishra.g/thesis/data/T-1/all_images/train_list.csv'\n",
    "filelist = pd.read_csv(dir)\n",
    "filelist"
   ]
  },
  {
   "cell_type": "code",
   "execution_count": 18,
   "metadata": {},
   "outputs": [
    {
     "data": {
      "text/plain": [
       "'/home/mishra.g/thesis/data/T-1/all_images/train/F0001_MID1_P00003_face0.jpg'"
      ]
     },
     "execution_count": 18,
     "metadata": {},
     "output_type": "execute_result"
    }
   ],
   "source": [
    "filelist[filelist.iloc[:,1]==1].sample().iloc[0,0]"
   ]
  },
  {
   "cell_type": "code",
   "execution_count": 51,
   "metadata": {},
   "outputs": [],
   "source": [
    "import torch\n",
    "import torchvision\n",
    "from PIL import Image\n"
   ]
  },
  {
   "cell_type": "code",
   "execution_count": 52,
   "metadata": {},
   "outputs": [],
   "source": [
    "fids = [322,  200,  600,  990]"
   ]
  },
  {
   "cell_type": "code",
   "execution_count": 86,
   "metadata": {},
   "outputs": [
    {
     "name": "stdout",
     "output_type": "stream",
     "text": [
      "0 322\n",
      "1 200\n",
      "2 600\n",
      "3 990\n"
     ]
    }
   ],
   "source": [
    "dir = '/home/mishra.g/thesis/data/T-1/all_images/train_list.csv'\n",
    "filelist = pd.read_csv(dir)\n",
    "#size = (args.batch_size, 3, args.image_size[0], args.image_size[1])\n",
    "size = (4, 3, 108, 124)\n",
    "\n",
    "convert_tensor = torchvision.transforms.ToTensor()\n",
    "resize_tensor = torchvision.transforms.Resize(size=(108,124))\n",
    "x_j = torch.empty(size)\n",
    "\n",
    "for index, i in enumerate(fids):\n",
    "    image = convert_tensor(resize_tensor(Image.open(filelist[filelist.iloc[:,1]==i].sample().iloc[0,0])))\n",
    "    \n",
    "    x_j[index,:,:,:] = image\n",
    "    print(index,i)\n",
    "#return x_j"
   ]
  },
  {
   "cell_type": "code",
   "execution_count": 85,
   "metadata": {},
   "outputs": [
    {
     "data": {
      "image/png": "[encoded data removed]",
      "text/plain": [
       "<PIL.JpegImagePlugin.JpegImageFile image mode=RGB size=108x124 at 0x2B905B65F310>"
      ]
     },
     "execution_count": 85,
     "metadata": {},
     "output_type": "execute_result"
    }
   ],
   "source": [
    "Image.open(filelist[filelist.iloc[:,1]==322].sample().iloc[0,0])"
   ]
  },
  {
   "cell_type": "code",
   "execution_count": 93,
   "metadata": {},
   "outputs": [
    {
     "data": {
      "text/plain": [
       "'/home/mishra.g/thesis/data/T-1/all_images/train/F0322_MID1_P03407_face0.jpg'"
      ]
     },
     "execution_count": 93,
     "metadata": {},
     "output_type": "execute_result"
    }
   ],
   "source": [
    "filelist[filelist.iloc[:,1]==322].sample().iloc[0,0]"
   ]
  },
  {
   "cell_type": "code",
   "execution_count": null,
   "metadata": {},
   "outputs": [],
   "source": []
  }
 ],
 "metadata": {
  "kernelspec": {
   "display_name": "Python 3",
   "language": "python",
   "name": "python3"
  },
  "language_info": {
   "codemirror_mode": {
    "name": "ipython",
    "version": 3
   },
   "file_extension": ".py",
   "mimetype": "text/x-python",
   "name": "python",
   "nbconvert_exporter": "python",
   "pygments_lexer": "ipython3",
   "version": "3.7.6"
  }
 },
 "nbformat": 4,
 "nbformat_minor": 4
}
